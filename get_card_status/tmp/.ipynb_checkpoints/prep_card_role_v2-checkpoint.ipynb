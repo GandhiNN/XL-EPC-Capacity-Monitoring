{
 "cells": [
  {
   "cell_type": "code",
   "execution_count": 1,
   "metadata": {},
   "outputs": [],
   "source": [
    "# Import modules\n",
    "import csv\n",
    "import re\n",
    "import os"
   ]
  },
  {
   "cell_type": "code",
   "execution_count": 2,
   "metadata": {},
   "outputs": [],
   "source": [
    "# Nodename getter\n",
    "def get_node_name(card_log):\n",
    "    nodename = card_log.split('-')[0]\n",
    "    return nodename\n",
    "\n",
    "# CF Cards getter\n",
    "def get_cf_cards(card_log):\n",
    "    f = open(card_log, \"r\")\n",
    "    fl = f.readlines()\n",
    "    cf_cards_raw = [line for line in fl if \"Control Function Virtual Card\" in line]\n",
    "    cf_cards_fixed_num = []\n",
    "    for i in range(len(cf_cards_raw)):\n",
    "        cf_cards_fixed_num.append(int(re.sub(r'\\W+',' ', cf_cards_raw[i]).split()[0]))\n",
    "    f.close()\n",
    "    return cf_cards_fixed_num\n",
    "\n",
    "# SF Standby Cards getter\n",
    "def get_sf_standby(card_log):\n",
    "    f = open(card_log, \"r\")\n",
    "    fl = f.readlines()\n",
    "    sf_standby_cards = [line for line in fl if \"Service Function Virtual Card\" in line and \"Standby\" in line]\n",
    "    sf_standby_cards_num = []\n",
    "    for i in range(len(sf_standby_cards)):\n",
    "        sf_standby_cards_num.append(int(re.sub(r'\\W+',' ', sf_standby_cards[i]).split()[0]))\n",
    "    f.close()\n",
    "    return sf_standby_cards_num\n",
    "\n",
    "# Demux cards getter\n",
    "def get_demux_card(card_log):\n",
    "    f = open(card_log, \"r\")\n",
    "    fl = f.readlines()\n",
    "    demux_cards = [line for line in fl if \"Demux\" in line]\n",
    "    demux_cards_num = []\n",
    "    for i in range(len(demux_cards)):\n",
    "        demux_cards_num.append(int(re.sub(r'\\W+',' ', demux_cards[i]).split()[0]))\n",
    "    f.close()\n",
    "    return demux_cards_num\n",
    "\n",
    "# Print comma-separated list into string with semicolon delimiter. Keep the brackets\n",
    "def stringify_list_with_semicolon(list_card):\n",
    "    return re.sub(\", \", \";\", str(list_card))\n",
    "\n",
    "# Make a list from collection of strings above\n",
    "def make_card_list(nodename, cf_cards, sf_standby_cards, demux_cards):\n",
    "    card_list = []\n",
    "    card_list.append(nodename)\n",
    "    card_list.append(stringify_list_with_semicolon(cf_cards))\n",
    "    card_list.append(stringify_list_with_semicolon(sf_standby_cards))\n",
    "    card_list.append(stringify_list_with_semicolon(demux_cards))\n",
    "    return card_list"
   ]
  },
  {
   "cell_type": "code",
   "execution_count": 3,
   "metadata": {},
   "outputs": [],
   "source": [
    "def loop_through_files_make_list():\n",
    "    card_list = []\n",
    "    for filename in os.listdir('.'):\n",
    "        if filename.endswith(\".log\"):\n",
    "            nodename = get_node_name(filename)\n",
    "            cf_cards = get_cf_cards(filename)\n",
    "            sf_standby_cards = get_sf_standby(filename)\n",
    "            demux_cards = get_demux_card(filename)\n",
    "            card_list_member = make_card_list(nodename, cf_cards, sf_standby_cards, demux_cards)\n",
    "            card_list.append(card_list_member)\n",
    "    return card_list"
   ]
  },
  {
   "cell_type": "code",
   "execution_count": 4,
   "metadata": {},
   "outputs": [],
   "source": [
    "card_list = loop_through_files_make_list()"
   ]
  },
  {
   "cell_type": "code",
   "execution_count": 5,
   "metadata": {},
   "outputs": [
    {
     "name": "stdout",
     "output_type": "stream",
     "text": [
      "[['GGCBT17', '[1;2]', '[19]', '[5]'], ['GGCBT18', '[1;2]', '[6]', '[18]'], ['GGBNB01', '[1;2]', '[18]', '[3]'], ['GGCBT11', '[1;2]', '[29;30]', '[3]'], ['GGCBT16', '[1;2]', '[19]', '[17]'], ['GGBNB02', '[1;2]', '[21]', '[20]'], ['GGCBT13', '[1;2]', '[4;32]', '[31]'], ['GGCBT14', '[1;2]', '[19]', '[15]'], ['GGCBT15', '[1;2]', '[29;32]', '[3]'], ['GGCBT12', '[1;2]', '[3;4]', '[32]']]\n"
     ]
    }
   ],
   "source": [
    "print(card_list)"
   ]
  },
  {
   "cell_type": "code",
   "execution_count": 6,
   "metadata": {},
   "outputs": [],
   "source": [
    "def make_csv(card_list):\n",
    "    with open('card.csv', 'w') as csvfile:\n",
    "        wr = csv.writer(csvfile)\n",
    "        wr.writerow(['node', 'cf', 'sf_standby', 'demux'])\n",
    "        wr.writerows(card_list)"
   ]
  },
  {
   "cell_type": "code",
   "execution_count": 7,
   "metadata": {},
   "outputs": [],
   "source": [
    "make_csv(card_list)"
   ]
  },
  {
   "cell_type": "code",
   "execution_count": null,
   "metadata": {},
   "outputs": [],
   "source": []
  }
 ],
 "metadata": {
  "kernelspec": {
   "display_name": "Python 3",
   "language": "python",
   "name": "python3"
  },
  "language_info": {
   "codemirror_mode": {
    "name": "ipython",
    "version": 3
   },
   "file_extension": ".py",
   "mimetype": "text/x-python",
   "name": "python",
   "nbconvert_exporter": "python",
   "pygments_lexer": "ipython3",
   "version": "3.7.2"
  }
 },
 "nbformat": 4,
 "nbformat_minor": 2
}
