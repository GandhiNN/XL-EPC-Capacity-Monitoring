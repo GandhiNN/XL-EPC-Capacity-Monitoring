{
 "cells": [
  {
   "cell_type": "code",
   "execution_count": 1,
   "metadata": {},
   "outputs": [],
   "source": [
    "# Import modules\n",
    "import re\n",
    "\n",
    "# Open file\n",
    "card_log = \"GGBNB01-Card-Status.log\"\n",
    "f = open(card_log, \"r\")\n",
    "fl = f.readlines()"
   ]
  },
  {
   "cell_type": "code",
   "execution_count": 2,
   "metadata": {},
   "outputs": [],
   "source": [
    "# Get CF Card, Standby Card, Demux Card\n",
    "cf_cards = [line for line in fl if \"Virtual Card\" in line and \"CFC\" in line]\n",
    "sf_standby_cards = [line for line in fl if \"Service Function Virtual Card\" in line and \"Standby\" in line]\n",
    "demux_cards = [line for line in fl if \"Demux\" in line]"
   ]
  },
  {
   "cell_type": "markdown",
   "metadata": {},
   "source": [
    "### CF Cards"
   ]
  },
  {
   "cell_type": "code",
   "execution_count": 3,
   "metadata": {},
   "outputs": [
    {
     "name": "stdout",
     "output_type": "stream",
     "text": [
      "['    \" 1: CFC      Control Function Virtual Card           Active         No          \", \\n', '    \" 2: CFC      Control Function Virtual Card           Standby        -           \", \\n']\n",
      "    \" 1: CFC      Control Function Virtual Card           Active         No          \", \n",
      "\n",
      "    \" 2: CFC      Control Function Virtual Card           Standby        -           \", \n",
      "\n"
     ]
    }
   ],
   "source": [
    "print(cf_cards)\n",
    "print(cf_cards[0])\n",
    "print(cf_cards[1])"
   ]
  },
  {
   "cell_type": "code",
   "execution_count": 4,
   "metadata": {},
   "outputs": [],
   "source": [
    "cf_cards_fixed = []\n",
    "for i in range(len(cf_cards)):\n",
    "    cf_cards_fixed.append(re.sub(r'\\W+', ' ', cf_cards[i]).split())"
   ]
  },
  {
   "cell_type": "code",
   "execution_count": 5,
   "metadata": {},
   "outputs": [
    {
     "name": "stdout",
     "output_type": "stream",
     "text": [
      "[['1', 'CFC', 'Control', 'Function', 'Virtual', 'Card', 'Active', 'No'], ['2', 'CFC', 'Control', 'Function', 'Virtual', 'Card', 'Standby']]\n"
     ]
    }
   ],
   "source": [
    "print(cf_cards_fixed)"
   ]
  },
  {
   "cell_type": "code",
   "execution_count": 6,
   "metadata": {},
   "outputs": [],
   "source": [
    "cf_cards_fixed_num = []\n",
    "\n",
    "for i in range(len(cf_cards_fixed)):\n",
    "    cf_cards_fixed_num.append(int(cf_cards_fixed[i][0]))\n"
   ]
  },
  {
   "cell_type": "code",
   "execution_count": 7,
   "metadata": {},
   "outputs": [
    {
     "name": "stdout",
     "output_type": "stream",
     "text": [
      "[1, 2]\n"
     ]
    }
   ],
   "source": [
    "print(cf_cards_fixed_num)"
   ]
  },
  {
   "cell_type": "code",
   "execution_count": 8,
   "metadata": {},
   "outputs": [],
   "source": [
    "# Generalized function\n",
    "def get_cf_cards(card_log):\n",
    "    f = open(card_log, \"r\")\n",
    "    fl = f.readlines()\n",
    "    cf_cards_raw = [line for line in fl if \"Control Function Virtual Card\" in line]\n",
    "    cf_cards_fixed_num = []\n",
    "    for i in range(len(cf_cards_raw)):\n",
    "        cf_cards_fixed_num.append(int(re.sub(r'\\W+',' ', cf_cards_raw[i]).split()[0]))\n",
    "    f.close()\n",
    "    return cf_cards_fixed_num"
   ]
  },
  {
   "cell_type": "code",
   "execution_count": 9,
   "metadata": {},
   "outputs": [],
   "source": [
    "cf_cards = get_cf_cards(card_log)"
   ]
  },
  {
   "cell_type": "code",
   "execution_count": 10,
   "metadata": {},
   "outputs": [
    {
     "name": "stdout",
     "output_type": "stream",
     "text": [
      "[1, 2]\n",
      "[1, 2]\n"
     ]
    }
   ],
   "source": [
    "print(cf_cards)\n",
    "print(str(cf_cards))"
   ]
  },
  {
   "cell_type": "markdown",
   "metadata": {},
   "source": [
    "### Get Node Name"
   ]
  },
  {
   "cell_type": "code",
   "execution_count": 11,
   "metadata": {},
   "outputs": [],
   "source": [
    "def get_node_name(card_log):\n",
    "    nodename = card_log.split('-')[0]\n",
    "    return nodename"
   ]
  },
  {
   "cell_type": "code",
   "execution_count": 12,
   "metadata": {},
   "outputs": [
    {
     "name": "stdout",
     "output_type": "stream",
     "text": [
      "GGBNB01\n"
     ]
    }
   ],
   "source": [
    "nodename = get_node_name(card_log)\n",
    "print(nodename)"
   ]
  },
  {
   "cell_type": "markdown",
   "metadata": {},
   "source": [
    "### Get SF Standby"
   ]
  },
  {
   "cell_type": "code",
   "execution_count": 13,
   "metadata": {},
   "outputs": [
    {
     "name": "stdout",
     "output_type": "stream",
     "text": [
      "['    \"18: FC       2-Port Service Function Virtual Card    Standby        -           \", \\n']\n"
     ]
    }
   ],
   "source": [
    "print(sf_standby_cards)"
   ]
  },
  {
   "cell_type": "code",
   "execution_count": 14,
   "metadata": {},
   "outputs": [],
   "source": [
    "def get_sf_standby(card_log):\n",
    "    f = open(card_log, \"r\")\n",
    "    fl = f.readlines()\n",
    "    sf_standby_cards = [line for line in fl if \"Service Function Virtual Card\" in line and \"Standby\" in line]\n",
    "    sf_standby_cards_num = []\n",
    "    for i in range(len(sf_standby_cards)):\n",
    "        sf_standby_cards_num.append(int(re.sub(r'\\W+',' ', sf_standby_cards[i]).split()[0]))\n",
    "    f.close()\n",
    "    return sf_standby_cards_num"
   ]
  },
  {
   "cell_type": "code",
   "execution_count": 15,
   "metadata": {},
   "outputs": [
    {
     "name": "stdout",
     "output_type": "stream",
     "text": [
      "[18]\n"
     ]
    }
   ],
   "source": [
    "sf_standby_cards = get_sf_standby(card_log)\n",
    "print(sf_standby_cards)"
   ]
  },
  {
   "cell_type": "markdown",
   "metadata": {},
   "source": [
    "### Get Demux Card"
   ]
  },
  {
   "cell_type": "code",
   "execution_count": 16,
   "metadata": {},
   "outputs": [
    {
     "name": "stdout",
     "output_type": "stream",
     "text": [
      "['    \" 3/0 Active   0      0        0      0        14      Good (Demux)             \", \\n']\n"
     ]
    }
   ],
   "source": [
    "print(demux_cards)"
   ]
  },
  {
   "cell_type": "code",
   "execution_count": 17,
   "metadata": {},
   "outputs": [
    {
     "data": {
      "text/plain": [
       "' 3 0 Active 0 0 0 0 14 Good Demux '"
      ]
     },
     "execution_count": 17,
     "metadata": {},
     "output_type": "execute_result"
    }
   ],
   "source": [
    "re.sub(r'\\W+', ' ', demux_cards[0])"
   ]
  },
  {
   "cell_type": "code",
   "execution_count": 18,
   "metadata": {},
   "outputs": [],
   "source": [
    "def get_demux_card(card_log):\n",
    "    f = open(card_log, \"r\")\n",
    "    fl = f.readlines()\n",
    "    demux_cards = [line for line in fl if \"Demux\" in line]\n",
    "    demux_cards_num = []\n",
    "    for i in range(len(demux_cards)):\n",
    "        demux_cards_num.append(int(re.sub(r'\\W+',' ', demux_cards[i]).split()[0]))\n",
    "    f.close()\n",
    "    return demux_cards_num"
   ]
  },
  {
   "cell_type": "code",
   "execution_count": 19,
   "metadata": {},
   "outputs": [
    {
     "name": "stdout",
     "output_type": "stream",
     "text": [
      "[3]\n"
     ]
    }
   ],
   "source": [
    "demux_cards_num = get_demux_card(card_log)\n",
    "print(str(demux_cards_num))"
   ]
  },
  {
   "cell_type": "code",
   "execution_count": 20,
   "metadata": {},
   "outputs": [],
   "source": [
    "# Print comma-separated list into string with semicolon delimiter. Keep the brackets\n",
    "def stringify_list_with_semicolon(list_card):\n",
    "    return re.sub(\", \", \";\", str(list_card))"
   ]
  },
  {
   "cell_type": "markdown",
   "metadata": {},
   "source": [
    "### Compile all variables collected"
   ]
  },
  {
   "cell_type": "code",
   "execution_count": 21,
   "metadata": {},
   "outputs": [
    {
     "data": {
      "text/plain": [
       "'GGBNB01'"
      ]
     },
     "execution_count": 21,
     "metadata": {},
     "output_type": "execute_result"
    }
   ],
   "source": [
    "cf_cards_str = stringify_list_with_semicolon(cf_cards)\n",
    "sf_standby_cards_str = stringify_list_with_semicolon(sf_standby_cards)\n",
    "demux_cards_str = stringify_list_with_semicolon(demux_cards_num) \n",
    "nodename"
   ]
  },
  {
   "cell_type": "code",
   "execution_count": 22,
   "metadata": {},
   "outputs": [],
   "source": [
    "# Make a list from collection of strings above\n",
    "def make_card_list(nodename, cf_cards, sf_standby_cards, demux_cards):\n",
    "    card_list = []\n",
    "    card_list.append(nodename)\n",
    "    card_list.append(stringify_list_with_semicolon(cf_cards))\n",
    "    card_list.append(stringify_list_with_semicolon(sf_standby_cards))\n",
    "    card_list.append(stringify_list_with_semicolon(demux_cards))\n",
    "    return card_list"
   ]
  },
  {
   "cell_type": "code",
   "execution_count": 23,
   "metadata": {},
   "outputs": [
    {
     "name": "stdout",
     "output_type": "stream",
     "text": [
      "['GGBNB01', '[1;2]', '[18]', '[3]']\n"
     ]
    }
   ],
   "source": [
    "string_fin = make_list(nodename, cf_cards, sf_standby_cards, demux_cards_num)\n",
    "print(string_fin)"
   ]
  },
  {
   "cell_type": "code",
   "execution_count": null,
   "metadata": {},
   "outputs": [],
   "source": []
  }
 ],
 "metadata": {
  "kernelspec": {
   "display_name": "Python 3",
   "language": "python",
   "name": "python3"
  },
  "language_info": {
   "codemirror_mode": {
    "name": "ipython",
    "version": 3
   },
   "file_extension": ".py",
   "mimetype": "text/x-python",
   "name": "python",
   "nbconvert_exporter": "python",
   "pygments_lexer": "ipython3",
   "version": "3.7.2"
  }
 },
 "nbformat": 4,
 "nbformat_minor": 2
}
